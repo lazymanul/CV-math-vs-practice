{
 "cells": [
  {
   "attachments": {},
   "cell_type": "markdown",
   "metadata": {},
   "source": [
    "К настоящему моменту уже удалось достичь неплохих результатов. Например, имея на руках модель камеры, мы можем легко превратить с её помощью трехмерную сцену известной структуры в плоское изображение. Для решения задач в области компьютерной графики, этих знаний вполне достаточно: компьютер позволяет програмно задать как структуру сцены, так и модель камеры. \n",
    "\n",
    "На практике же полная информация о сцене и камере обычно недоступна. Всё, на что мы можем рассчитывать &ndash; это набор изображений. Цель следующих глав &ndash; разобраться в том, какую информацию и каким образом из этих изображений можно извлечь."
   ]
  },
  {
   "attachments": {},
   "cell_type": "markdown",
   "metadata": {},
   "source": [
    "# Калибровка камеры\n",
    "\n",
    "Сперва научимся самостоятельно определять параметры камеры (то есть строить её модель), этот процесс называется калибровкой. В первом приближении немного упростим условие задачи и будем считать, что структура сцены известна. Т.е. точно знаем, как расположены объекты относительно некоторой мировой системы координат. Камера же просто перемещается вокруг и порождает изображения согласно своей внутренней механике. "
   ]
  },
  {
   "cell_type": "code",
   "execution_count": 2,
   "metadata": {},
   "outputs": [],
   "source": [
    "import matplotlib.pyplot as plt\n",
    "import numpy as np\n",
    "\n",
    "import os \n",
    "import sys\n",
    "\n",
    "# add parent dir to import path \n",
    "parent_dir = os.path.abspath('..')\n",
    "sys.path.append(parent_dir)\n",
    "\n",
    "import utils.frame_plotter as fp\n",
    "import utils.scene_elements as se\n",
    "import utils.models as models"
   ]
  },
  {
   "attachments": {},
   "cell_type": "markdown",
   "metadata": {},
   "source": [
    "## Задание 1\n",
    "\n",
    "Если перемножить матрицы K и $[R \\; | \\;t ]$, то уравнение камеры примет вид $s \\; p = K \\; [R \\; | \\; t] \\; P_W = M \\; P_W $. Часть информации была утеряна, но теперь есть единственная матрица. Пусть она неизвестна. Как её найти, имея в распоряжении исходные и преобразованные координаты точек?"
   ]
  },
  {
   "attachments": {},
   "cell_type": "markdown",
   "metadata": {},
   "source": [
    "Шаг 1: нужно посмотреть на матричное уравнение $p = M P_w$ под другим углом. "
   ]
  },
  {
   "attachments": {},
   "cell_type": "markdown",
   "metadata": {},
   "source": [
    "Шаг 2: \n",
    "\n",
    "Для этого нужно выписать выражение, например, для x, и пристально на него посмотреть\n",
    "\n",
    "$\\begin{bmatrix} \n",
    "        x \\\\ \n",
    "        y \\\\\n",
    "        z\n",
    "\\end{bmatrix} = \n",
    "\\begin{bmatrix}\n",
    "        m_{11} & m_{12} & m_{13} & m_{14} \\\\\n",
    "        m_{21} & m_{22} & m_{23} & m_{24} \\\\\n",
    "        m_{31} & m_{32} & m_{33} & m_{34} \n",
    "\\end{bmatrix} \n",
    "\\begin{bmatrix} \n",
    "    X_W \\\\\n",
    "    Y_W \\\\\n",
    "    Z_W \\\\\n",
    "    1\n",
    "\\end{bmatrix}$\n",
    "\n",
    "$x = m_{11}\\cdot X_W +  m_{12} \\cdot Y_W + m_{13} \\cdot Z_w + m_{14} \\cdot 1 = [X_W \\; Y_W \\; Z_W \\; 1] \\cdot \n",
    "\\begin{bmatrix} \n",
    "    m_{11} \\\\\n",
    "    m_{12} \\\\\n",
    "    m_{13} \\\\\n",
    "    m_{14}\n",
    "\\end{bmatrix} $  \n",
    "\n",
    "Переменными теперь являются $m_{ij}$\n",
    "\n"
   ]
  },
  {
   "attachments": {},
   "cell_type": "markdown",
   "metadata": {},
   "source": [
    "Шаг 3:\n",
    "\n",
    "Матрица имеет размеры 3 на 4, поэтому перменных в одном уравнении должно быть 12. Как будет выглядеть такое уравнение? \n",
    "\n",
    "Нужно просто добавить все оставшиеся переменные $m_{ij}$, но так как они не будут влиять на x, то коэффицинты получатся нулевыми.\n",
    "\n",
    "$x = m_{11}\\cdot X_W +  m_{12} \\cdot Y_W + m_{13} \\cdot Z_w + m_{14} \\cdot 1 + m_{21}\\cdot 0 +  m_{22} \\cdot 0 + m_{23} \\cdot 0 + m_{24} \\cdot 0 + m_{31}\\cdot 0 +  m_{32} \\cdot 0 + m_{33} \\cdot 0 + m_{34} \\cdot 0$\n",
    "\n",
    "Похожие уравнения будут для y и z. То есть каждая точка, для которой известны координаты до и после камеры, даст 3 уравнения. Если объединить их вместе, то получится новая система уравнений относительно значений матрицы $m_{ij}$. Решив её, мы узнаем, как выглядит матрица $M$\n",
    "\n"
   ]
  },
  {
   "cell_type": "code",
   "execution_count": 52,
   "metadata": {},
   "outputs": [],
   "source": [
    "# Решение\n",
    "\n",
    "Ry = np.array([[0, 0,-1],\n",
    "               [0, 1, 0],\n",
    "               [1, 0, 0]])\n",
    "Rx = np.array([[1, 0, 0],\n",
    "               [0, 0, 1],\n",
    "               [0,-1, 0]])\n",
    "\n",
    "world_basis = se.Basis()\n",
    "cam_basis = se.Basis(origin=np.array([14,2,2]),\n",
    "                     basis=Rx @ Ry)\n",
    "camera = se.Camera(basis=cam_basis)\n",
    "\n",
    "\n",
    "points_3d = models.house\n",
    "world_points_hom = np.vstack((points_3d.T, np.ones(points_3d.shape[0])))\n",
    "cam_points_3d = camera.Rt @ world_points_hom\n",
    "cam_points_ndc = cam_points_3d / cam_points_3d[2]\n",
    "\n",
    "\n",
    "proj_points = camera.project(models.house)"
   ]
  },
  {
   "cell_type": "code",
   "execution_count": 55,
   "metadata": {},
   "outputs": [],
   "source": [
    "# Определить матрицу P \n",
    "\n",
    "def gen_matrix_row(P_w):\n",
    "    x_row = np.hstack((P_w, np.zeros_like(P_w), np.zeros_like(P_w)))\n",
    "    y_row = np.hstack((np.zeros_like(P_w), P_w, np.zeros_like(P_w)))\n",
    "    z_row = np.hstack((np.zeros_like(P_w), np.zeros_like(P_w), P_w))\n",
    "    return np.vstack((x_row, y_row, z_row))\n",
    "\n",
    "P_matrix = np.apply_along_axis(gen_matrix_row, 1, world_points_hom.T).reshape((-1, 12))"
   ]
  },
  {
   "cell_type": "code",
   "execution_count": null,
   "metadata": {},
   "outputs": [],
   "source": [
    "# Вопрос: какого размерта матрица P? \n",
    "# подумай, а потом проверь себя\n",
    "P_matrix.shape"
   ]
  },
  {
   "cell_type": "code",
   "execution_count": 50,
   "metadata": {},
   "outputs": [
    {
     "data": {
      "text/plain": [
       "9"
      ]
     },
     "execution_count": 50,
     "metadata": {},
     "output_type": "execute_result"
    }
   ],
   "source": [
    "np.linalg.matrix_rank(P_matrix)"
   ]
  },
  {
   "cell_type": "code",
   "execution_count": 53,
   "metadata": {},
   "outputs": [
    {
     "data": {
      "text/plain": [
       "array([-2.,  2., 14.,  6.,  2., 14.,  6., -6., 14.,  2., -8., 14., -2.,\n",
       "       -6., 14., -2.,  2., 14., -2.,  2.,  6.,  0.,  2.,  6.,  0., -2.,\n",
       "        6.,  2., -2.,  6.,  4., -2.,  6.,  4.,  2.,  6.,  6.,  2.,  6.,\n",
       "        6., -6.,  6.,  2., -8.,  6.,  2., -8., 14.,  2., -8.,  6., -2.,\n",
       "       -6.,  6., -2.,  2.,  6.])"
      ]
     },
     "execution_count": 53,
     "metadata": {},
     "output_type": "execute_result"
    }
   ],
   "source": [
    "b = cam_points_3d.T.flatten()\n",
    "b"
   ]
  },
  {
   "cell_type": "code",
   "execution_count": 54,
   "metadata": {},
   "outputs": [
    {
     "data": {
      "text/plain": [
       "array([[ 4.29603027e-16,  1.00000000e+00,  1.11022302e-16,\n",
       "        -2.00000000e+00],\n",
       "       [-1.60303657e-15,  7.18833047e-17, -1.00000000e+00,\n",
       "         2.00000000e+00],\n",
       "       [-1.00000000e+00, -4.32097341e-15, -8.09279447e-16,\n",
       "         1.40000000e+01]])"
      ]
     },
     "execution_count": 54,
     "metadata": {},
     "output_type": "execute_result"
    }
   ],
   "source": [
    "m, *_ = np.linalg.lstsq(P_matrix, b, rcond=None)\n",
    "m.reshape((3,4))"
   ]
  },
  {
   "cell_type": "code",
   "execution_count": 47,
   "metadata": {},
   "outputs": [
    {
     "data": {
      "text/plain": [
       "array([[ 0.,  1.,  0., -2.],\n",
       "       [ 0.,  0., -1.,  2.],\n",
       "       [-1.,  0.,  0., 14.]])"
      ]
     },
     "execution_count": 47,
     "metadata": {},
     "output_type": "execute_result"
    }
   ],
   "source": [
    "camera.P"
   ]
  },
  {
   "attachments": {},
   "cell_type": "markdown",
   "metadata": {},
   "source": [
    "Несмотря на то, что решение затруднительно применить на практике (т.к. точных координат объектов сцены у нас нет), оно демонстрирует работу полезного инструмента для работы с матричными уравнениями. А именно, используя дополнительную информацию о координатах, позволяет находить неизвестную матрицу. \n",
    "\n",
    "$p = M \\; P_w$ $\\to$ $[P_w] \\; m = p$ "
   ]
  },
  {
   "attachments": {},
   "cell_type": "markdown",
   "metadata": {},
   "source": [
    "Реальность не позволяет точно задать положения всех объектов сцены. Поэтому во втором приближении придется прибегнуть к некоторому трюку, а именно сконцентрировать внимание на специальных объектах, информация о геометрии которых заранее известна. В качестве таких объектов выступают калибровочные шаблоны."
   ]
  },
  {
   "attachments": {},
   "cell_type": "markdown",
   "metadata": {},
   "source": [
    "<img src=\"../assets/images/calibration_pattern.png\" alt=\"calibration pattern\" style=\"background-color:#d3d3d3\"/> \n",
    "</br>"
   ]
  }
 ],
 "metadata": {
  "kernelspec": {
   "display_name": "venv",
   "language": "python",
   "name": "python3"
  },
  "language_info": {
   "codemirror_mode": {
    "name": "ipython",
    "version": 3
   },
   "file_extension": ".py",
   "mimetype": "text/x-python",
   "name": "python",
   "nbconvert_exporter": "python",
   "pygments_lexer": "ipython3",
   "version": "3.10.6"
  },
  "orig_nbformat": 4,
  "vscode": {
   "interpreter": {
    "hash": "54e9386fbb4ea835857723a670343a5eeb32c2d313f253962144ae8dc65284fd"
   }
  }
 },
 "nbformat": 4,
 "nbformat_minor": 2
}
